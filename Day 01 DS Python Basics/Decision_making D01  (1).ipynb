{
 "cells": [
  {
   "cell_type": "code",
   "execution_count": 1,
   "id": "3c4c9246",
   "metadata": {},
   "outputs": [
    {
     "name": "stdout",
     "output_type": "stream",
     "text": [
      "i is Greater than 10 \n"
     ]
    }
   ],
   "source": [
    "##if statement \n",
    "i =10 \n",
    "if i>9:\n",
    "    print('i is Greater than 10 ')"
   ]
  },
  {
   "cell_type": "code",
   "execution_count": 2,
   "id": "1877013c",
   "metadata": {},
   "outputs": [
    {
     "name": "stdout",
     "output_type": "stream",
     "text": [
      "i is less than 12\n"
     ]
    }
   ],
   "source": [
    "# if_else statement\n",
    "i=10\n",
    "if i>12:\n",
    "    print('I is Greater than 12')\n",
    "else:\n",
    "    print('i is less than 12')"
   ]
  },
  {
   "cell_type": "code",
   "execution_count": 3,
   "id": "fcdcb772",
   "metadata": {},
   "outputs": [
    {
     "name": "stdout",
     "output_type": "stream",
     "text": [
      "i is neither equal to 5 nor equal to 10\n"
     ]
    }
   ],
   "source": [
    "# if-elif-else statement\n",
    "i=10 \n",
    "if i == 5:\n",
    "    print('i is equal to 5 ')\n",
    "elif i==11:\n",
    "    print('i is equal to 10')\n",
    "else:\n",
    "    print('i is neither equal to 5 nor equal to 10')"
   ]
  },
  {
   "cell_type": "raw",
   "id": "0cf1ff13",
   "metadata": {},
   "source": [
    "#Nested if Statement"
   ]
  },
  {
   "cell_type": "code",
   "execution_count": 4,
   "id": "efd517dc",
   "metadata": {},
   "outputs": [
    {
     "name": "stdout",
     "output_type": "stream",
     "text": [
      "Enter the student marks95\n",
      "Grade: A\n",
      "Distinction Achieved!\n"
     ]
    }
   ],
   "source": [
    "# program to determine a student \n",
    "marks = int(input('Enter the student marks: '))\n",
    "\n",
    "if marks>=90:\n",
    "    grade='A'\n",
    "    if marks>=95:\n",
    "        distinction=True \n",
    "    else: distinction = False\n",
    "elif marks>=80 :\n",
    "    grade='B'\n",
    "    distinction=False\n",
    "elif marks>=70:\n",
    "    grade='C'\n",
    "    distinction= False\n",
    "elif marks>=60:\n",
    "    grade='D'\n",
    "    distinction=False\n",
    "else:\n",
    "    grade='F'\n",
    "    distinction=False\n",
    "    \n",
    "print('Grade:', grade)\n",
    "\n",
    "if distinction:\n",
    "    print(\"Distinction Achieved!\")\n"
   ]
  },
  {
   "cell_type": "markdown",
   "id": "19a82976",
   "metadata": {},
   "source": [
    "# Short hand of statement"
   ]
  },
  {
   "cell_type": "code",
   "execution_count": 5,
   "id": "02d26395",
   "metadata": {},
   "outputs": [
    {
     "name": "stdout",
     "output_type": "stream",
     "text": [
      "i is less than 20..\n"
     ]
    }
   ],
   "source": [
    "#short hand if stataement\n",
    "i = 10 \n",
    "if i<20: print('i is less than 20..')"
   ]
  },
  {
   "cell_type": "code",
   "execution_count": 6,
   "id": "42c01944",
   "metadata": {},
   "outputs": [
    {
     "name": "stdout",
     "output_type": "stream",
     "text": [
      "False\n"
     ]
    }
   ],
   "source": [
    "i =20\n",
    "print(True)if i ==10 else print(False)"
   ]
  }
 ],
 "metadata": {
  "kernelspec": {
   "display_name": "Python 3 (ipykernel)",
   "language": "python",
   "name": "python3"
  },
  "language_info": {
   "codemirror_mode": {
    "name": "ipython",
    "version": 3
   },
   "file_extension": ".py",
   "mimetype": "text/x-python",
   "name": "python",
   "nbconvert_exporter": "python",
   "pygments_lexer": "ipython3",
   "version": "3.9.13"
  }
 },
 "nbformat": 4,
 "nbformat_minor": 5
}
