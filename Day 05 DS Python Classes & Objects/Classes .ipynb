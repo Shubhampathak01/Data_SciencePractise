{
 "cells": [
  {
   "cell_type": "markdown",
   "id": "2001c2ed",
   "metadata": {},
   "source": [
    "# Instantiating a Class"
   ]
  },
  {
   "cell_type": "code",
   "execution_count": 1,
   "id": "004899c5",
   "metadata": {},
   "outputs": [
    {
     "name": "stdout",
     "output_type": "stream",
     "text": [
      "1\n",
      "Shubham\n",
      "2 Shivam\n",
      "3 Kahna\n"
     ]
    }
   ],
   "source": [
    "# Instantiating a Class\n",
    "class Employee:\n",
    "    def __init__(self, id:int, name:str) -> None:\n",
    "        self.id = id \n",
    "        self.name = name\n",
    "    def display(self):\n",
    "        print(self.id, self.name)\n",
    "        \n",
    "emp1= Employee(1, 'Shubham')\n",
    "print(emp1.id)\n",
    "print(emp1.name)\n",
    "\n",
    "emp2= Employee(2, 'Shivam')\n",
    "emp2.display()\n",
    "\n",
    "emp3= Employee(3, 'Kahna')\n",
    "emp3.display()"
   ]
  },
  {
   "cell_type": "markdown",
   "id": "9bebd57b",
   "metadata": {},
   "source": [
    "# Constructor"
   ]
  },
  {
   "cell_type": "code",
   "execution_count": 2,
   "id": "2231606c",
   "metadata": {},
   "outputs": [],
   "source": [
    "class Account:\n",
    "    def __init__(self, acct:int, name:str) -> None:\n",
    "        self.acct=acct\n",
    "        self.name=name\n",
    "    def display(self) -> None:\n",
    "        print(self.acct, self.name)\n",
    "        "
   ]
  },
  {
   "cell_type": "code",
   "execution_count": 3,
   "id": "affcd756",
   "metadata": {},
   "outputs": [
    {
     "name": "stdout",
     "output_type": "stream",
     "text": [
      "123 Shubham\n"
     ]
    }
   ],
   "source": [
    "acct1= Account(123, 'Shubham')\n",
    "acct1.display()"
   ]
  },
  {
   "cell_type": "code",
   "execution_count": 6,
   "id": "44083f4c",
   "metadata": {},
   "outputs": [
    {
     "name": "stdout",
     "output_type": "stream",
     "text": [
      "acct=1, name=shubham, addr=Delhi\n",
      "acct=2, name=None, addr=None\n",
      "acct=3, name=Kanha, addr=None\n",
      "acct=4, name=None, addr=Delhi\n"
     ]
    }
   ],
   "source": [
    "#COnstructor Overloading:\n",
    "class Employee:\n",
    "    def __init__(self, acct:int, name=None, addr=None) ->None:\n",
    "        if (name==None):\n",
    "            self.acct=acct\n",
    "            self.name=None\n",
    "            self.addr=addr\n",
    "        elif (addr==None):\n",
    "            self.acct=acct\n",
    "            self.name=name\n",
    "            self.addr=None\n",
    "        elif (name==None and addr==None):\n",
    "            self.acct=acct\n",
    "            self.name=None\n",
    "            self.addr=None\n",
    "        else:\n",
    "            self.acct=acct\n",
    "            self.name=name\n",
    "            self.addr=addr\n",
    "    def __str__(self) -> str:\n",
    "        return f'acct={self.acct}, name={self.name}, addr={self.addr}'\n",
    "    \n",
    "emp1= Employee(1, \"shubham\", 'Delhi')\n",
    "print(emp1)\n",
    "\n",
    "emp2= Employee(2)\n",
    "print(emp2)\n",
    "\n",
    "emp3=Employee(3, 'Kanha')\n",
    "print(emp3)\n",
    "\n",
    "emp4= Employee(4,addr='Delhi')\n",
    "print(emp4)"
   ]
  },
  {
   "cell_type": "code",
   "execution_count": 7,
   "id": "6e3a8ba4",
   "metadata": {},
   "outputs": [
    {
     "name": "stdout",
     "output_type": "stream",
     "text": [
      "Object deleted\n",
      "Object deleted\n",
      "Object deleted\n"
     ]
    }
   ],
   "source": [
    "##Destructor\n",
    "#1. Automatically call the destructor, when object deleted\n",
    "\n",
    "class Employee:\n",
    "    def __init__(self,name:str) -> None:\n",
    "        self.name=name \n",
    "    def __del__(self):\n",
    "        print('Object deleted')\n",
    "        \n",
    "emp1= Employee('Sh')\n",
    "del emp1\n",
    "\n",
    "emp2= Employee('Path')\n",
    "del emp2\n",
    "\n",
    "emp3 = Employee('Kan')\n",
    "del emp3"
   ]
  },
  {
   "cell_type": "code",
   "execution_count": 9,
   "id": "96fa84f3",
   "metadata": {},
   "outputs": [
    {
     "name": "stdout",
     "output_type": "stream",
     "text": [
      "Sh Object deleted\n",
      "Sh\n",
      "kan Object deleted\n",
      "kan\n",
      "Program end..\n",
      "kan\n"
     ]
    }
   ],
   "source": [
    "#2. Destructor called, When the program is end \n",
    "\n",
    "class Employee:\n",
    "    def __init__(self, name:str) -> None:\n",
    "        self.name = name\n",
    "    def __del__(self):\n",
    "        print(self.name, 'Object deleted')\n",
    "        \n",
    "emp1= Employee('Sh')\n",
    "print(emp1.name)\n",
    "\n",
    "emp2= Employee('kan')\n",
    "print(emp2.name)\n",
    "\n",
    "print('Program end..')\n",
    "print(emp2.name)"
   ]
  },
  {
   "cell_type": "code",
   "execution_count": 11,
   "id": "98f78a05",
   "metadata": {},
   "outputs": [],
   "source": [
    "#3. calling destructor \n",
    "\n",
    "class A:\n",
    "    def __init__(self, bb) -> None:\n",
    "        self.bb = bb\n",
    "        \n",
    "class B:\n",
    "    def __init__(self) -> None:\n",
    "        self.a = A(self)\n",
    "    def __del__(self) -> None:\n",
    "        print('Deleted...')\n",
    "        \n",
    "b= B()"
   ]
  },
  {
   "cell_type": "code",
   "execution_count": 20,
   "id": "0675e2de",
   "metadata": {},
   "outputs": [
    {
     "name": "stderr",
     "output_type": "stream",
     "text": [
      "ERROR: unknown command \"easy_install\" - maybe you meant \"install\"\n",
      "\n"
     ]
    }
   ],
   "source": [
    "import dataclasses as dc\n",
    "!pip easy_install"
   ]
  },
  {
   "cell_type": "markdown",
   "id": "d9c95714",
   "metadata": {},
   "source": [
    "# Built-in Class Attributes, Methods and Functions:\n",
    "\n",
    "Buit-in Class Attribute:"
   ]
  },
  {
   "cell_type": "code",
   "execution_count": 22,
   "id": "65d0c57c",
   "metadata": {},
   "outputs": [
    {
     "name": "stdout",
     "output_type": "stream",
     "text": [
      "Objected created\n",
      "Objected created\n",
      "(<class 'object'>,)\n",
      "{'__module__': '__main__', '__doc__': 'Create Account Class', '__init__': <function Account.__init__ at 0x000002E303C79700>, '__dict__': <attribute '__dict__' of 'Account' objects>, '__weakref__': <attribute '__weakref__' of 'Account' objects>}\n",
      "Create Account Class\n",
      "__main__\n",
      "Account\n",
      "None\n"
     ]
    }
   ],
   "source": [
    "class Account:\n",
    "    '''Create Account Class'''\n",
    "    def __init__(self, acct:int, name:str) -> None:\n",
    "        self.acct= acct\n",
    "        self.name= name\n",
    "        \n",
    "        print('Objected created')\n",
    "\n",
    "acct1= Account(1, \"Shubham \")\n",
    "acct2= Account(2, 'Kanha')\n",
    "\n",
    "print(Account.__bases__)\n",
    "print(Account.__dict__)\n",
    "print(Account.__doc__)\n",
    "print(Account.__module__)\n",
    "print(Account.__name__)\n",
    "\n",
    "C = dc.make_dataclass(\"c\", fields=[\"w\"], bases=(Account,))\n",
    "C.__annotations__\n",
    "\n",
    "\n",
    "\n",
    "\n",
    "print(acct1.__setattr__('addr','Delhi'))\n",
    "\n"
   ]
  },
  {
   "cell_type": "code",
   "execution_count": 25,
   "id": "01eb1d4c",
   "metadata": {},
   "outputs": [
    {
     "name": "stdout",
     "output_type": "stream",
     "text": [
      "Object created..\n",
      "3 : Shubham\n"
     ]
    },
    {
     "ename": "AttributeError",
     "evalue": "'Account' object has no attribute '__getstate__'",
     "output_type": "error",
     "traceback": [
      "\u001b[1;31m---------------------------------------------------------------------------\u001b[0m",
      "\u001b[1;31mAttributeError\u001b[0m                            Traceback (most recent call last)",
      "\u001b[1;32m~\\AppData\\Local\\Temp\\ipykernel_2260\\3625545245.py\u001b[0m in \u001b[0;36m<module>\u001b[1;34m\u001b[0m\n\u001b[0;32m     15\u001b[0m \u001b[1;33m\u001b[0m\u001b[0m\n\u001b[0;32m     16\u001b[0m \u001b[1;31m#Get instance state\u001b[0m\u001b[1;33m\u001b[0m\u001b[1;33m\u001b[0m\u001b[0m\n\u001b[1;32m---> 17\u001b[1;33m \u001b[0mprint\u001b[0m\u001b[1;33m(\u001b[0m\u001b[0macct4\u001b[0m\u001b[1;33m.\u001b[0m\u001b[0m__getstate__\u001b[0m\u001b[1;33m(\u001b[0m\u001b[1;33m)\u001b[0m\u001b[1;33m)\u001b[0m\u001b[1;33m\u001b[0m\u001b[1;33m\u001b[0m\u001b[0m\n\u001b[0m\u001b[0;32m     18\u001b[0m \u001b[1;33m\u001b[0m\u001b[0m\n\u001b[0;32m     19\u001b[0m \u001b[1;31m# Get an attribute value from the instance\u001b[0m\u001b[1;33m\u001b[0m\u001b[1;33m\u001b[0m\u001b[0m\n",
      "\u001b[1;31mAttributeError\u001b[0m: 'Account' object has no attribute '__getstate__'"
     ]
    }
   ],
   "source": [
    "#Built-in Class Functions:\n",
    "class Account:\n",
    "    '''Create Account Class'''\n",
    "    def __init__(self,acct:int,name:str) -> None:\n",
    "        self.acct = acct\n",
    "        self.name = name\n",
    "        print('Object created..')\n",
    "    def __str__(self) -> str:\n",
    "        return f'{self.acct} : {self.name}'\n",
    "    \n",
    "    \n",
    "    \n",
    "acct4= Account(3,'Shubham')\n",
    "print(acct1)\n",
    "\n",
    "#Get instance state\n",
    "print(acct4.__getstate__())\n",
    "\n",
    "# Get an attribute value from the instance\n",
    "print(acct4.__getattribute__('name'))\n",
    "print(getattr(acct4,'name'))\n",
    "\n",
    "# Set value to an attribute in the instance\n",
    "acct4.__setattr__('addr', 'Kop')\n",
    "setattr(acct4, 'comp', 'TCS')\n",
    "print(acct4.__getstate__())\n",
    "\n",
    "# Delete attribute from the instance\n",
    "acct4.__delattr__('addr')\n",
    "delattr(acct4, 'comp')\n",
    "print(acct4.__getstate__())\n",
    "\n",
    "# Check if instance has an attribute\n",
    "print(hasattr(acct4, 'comp'))\n",
    "print(hasattr(acct4, 'acct'))"
   ]
  },
  {
   "cell_type": "markdown",
   "id": "c19a858e",
   "metadata": {},
   "source": [
    "# Class vs Static Variables and Methods\n",
    "1. Class and Static Variables"
   ]
  },
  {
   "cell_type": "code",
   "execution_count": 1,
   "id": "40e114bc",
   "metadata": {},
   "outputs": [
    {
     "name": "stdout",
     "output_type": "stream",
     "text": [
      "Count:1, Type:Saving,\n",
      "Acct No.:11, Name:Shubham\n",
      "Count:2, Type:Saving,\n",
      "Acct No.:12, Name:Pathak\n",
      "Count:3, Type:Saving,\n",
      "Acct No.:13, Name:Shiv\n",
      "Count:4, Type:Saving,\n",
      "Acct No.:14, Name:Shubh\n",
      "Accounts: 4\n"
     ]
    }
   ],
   "source": [
    "class Account:\n",
    "    '''Create Account Class'''\n",
    "    count = 0\n",
    "    acct_type = 'Saving'\n",
    "\n",
    "    def __init__(self, acct:int, name:str) -> None:\n",
    "        self.acct = acct\n",
    "        self.name = name\n",
    "        Account.count += 1\n",
    "        # print('Object created..')\n",
    "    def __str__(self) -> str:\n",
    "        st = f'Count:{Account.count}, Type:{Account.acct_type}'\n",
    "        inst = f'Acct No.:{self.acct}, Name:{self.name}'\n",
    "        return f'{st},\\n{inst}'\n",
    "\n",
    "acct1 = Account(11, 'Shubham')\n",
    "# print(acct1.__getstate__())\n",
    "# print(acct1.count,acct1.acct,acct1.name,acct1.acct_type)\n",
    "print(acct1)\n",
    "\n",
    "acct2 = Account(12, 'Pathak')\n",
    "# print(acct2.__getstate__())\n",
    "print(acct2)\n",
    "\n",
    "acct3 = Account(13, 'Shiv')\n",
    "# print(acct3.__getstate__())\n",
    "print(acct3)\n",
    "\n",
    "acct4 = Account(14, 'Shubh')\n",
    "# print(acct4.__getstate__())\n",
    "print(acct4)\n",
    "\n",
    "print('Accounts:', Account.count)"
   ]
  },
  {
   "cell_type": "code",
   "execution_count": 3,
   "id": "d9124c65",
   "metadata": {},
   "outputs": [
    {
     "name": "stdout",
     "output_type": "stream",
     "text": [
      "1\n",
      "1\n",
      "Saving\n",
      "Saving\n"
     ]
    }
   ],
   "source": [
    "#2. Class and Static Methods\n",
    "class Account:\n",
    "    '''Create Account Class'''\n",
    "    count = 0\n",
    "    acct_type = 'Saving'\n",
    "    # Instance method\n",
    "    def __init__(self, acct:int, name:str) -> None:\n",
    "        self.acct = acct\n",
    "        self.name = name\n",
    "        Account.count += 1\n",
    "    def set_name(self: Account, name:str) -> None:\n",
    "        self.name = name\n",
    "    @classmethod\n",
    "    def get_count(cls) -> int:\n",
    "        return cls.count\n",
    "    @staticmethod\n",
    "    def get_type() -> str:\n",
    "        return Account.acct_type\n",
    "    \n",
    "acct1 = Account(1, 'Shubham')\n",
    "print(Account.get_count())\n",
    "Account.set_name(acct1, name='Shubh')\n",
    "print(acct1.get_count())\n",
    "\n",
    "print(Account.get_type())\n",
    "print(acct1.get_type())"
   ]
  },
  {
   "cell_type": "code",
   "execution_count": null,
   "id": "2b6a329d",
   "metadata": {},
   "outputs": [],
   "source": []
  }
 ],
 "metadata": {
  "kernelspec": {
   "display_name": "Python 3 (ipykernel)",
   "language": "python",
   "name": "python3"
  },
  "language_info": {
   "codemirror_mode": {
    "name": "ipython",
    "version": 3
   },
   "file_extension": ".py",
   "mimetype": "text/x-python",
   "name": "python",
   "nbconvert_exporter": "python",
   "pygments_lexer": "ipython3",
   "version": "3.9.13"
  }
 },
 "nbformat": 4,
 "nbformat_minor": 5
}
