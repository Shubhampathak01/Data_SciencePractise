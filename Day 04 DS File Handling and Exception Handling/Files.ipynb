{
 "cells": [
  {
   "cell_type": "markdown",
   "id": "bc82b1e4",
   "metadata": {},
   "source": [
    "# Open a File:\n",
    "1. open() file:\n"
   ]
  },
  {
   "cell_type": "code",
   "execution_count": 2,
   "id": "7bd45750",
   "metadata": {},
   "outputs": [
    {
     "name": "stdout",
     "output_type": "stream",
     "text": [
      "file is opened successfully\n"
     ]
    }
   ],
   "source": [
    "#opens the file file.txt in read mode \n",
    "filesp= open('geek.txt', 'r')\n",
    "if filesp:\n",
    "    print('file is opened successfully')\n",
    "\n"
   ]
  },
  {
   "cell_type": "markdown",
   "id": "b2aae661",
   "metadata": {},
   "source": [
    "# Read or Write - Performing operations on the file:\n",
    "open with read mode and print each line in file using loop:\n",
    "\n"
   ]
  },
  {
   "cell_type": "code",
   "execution_count": 3,
   "id": "c9e5815a",
   "metadata": {},
   "outputs": [
    {
     "name": "stdout",
     "output_type": "stream",
     "text": [
      "Writing new text to the file..\n",
      "\n",
      "With the help of the with keyword..\n",
      "\n",
      "Then closing the file..\n",
      "\n",
      "Appending new data to the file..\n",
      "\n",
      "Without overwriting the file..\n",
      "\n"
     ]
    }
   ],
   "source": [
    "# a file named 'file', will be opened with the readind mode.\n",
    "file = open('file.txt', 'r')\n",
    "\n",
    "#this will print every line one by one in the file \n",
    "for each in file:\n",
    "    print(each)\n"
   ]
  },
  {
   "cell_type": "code",
   "execution_count": 4,
   "id": "7cbe61c7",
   "metadata": {},
   "outputs": [
    {
     "name": "stdout",
     "output_type": "stream",
     "text": [
      "Writing new text to the file..\n",
      "With the help of the with keyword..\n",
      "Then closing the file..\n",
      "Appending new data to the file..\n",
      "Without overwriting the file..\n",
      "\n"
     ]
    }
   ],
   "source": [
    "#Read()\n",
    "file = open('file.txt', 'r')\n",
    "print(file.read())\n"
   ]
  },
  {
   "cell_type": "code",
   "execution_count": 5,
   "id": "4e6a81ff",
   "metadata": {},
   "outputs": [
    {
     "name": "stdout",
     "output_type": "stream",
     "text": [
      "Writing new text to the file..\n",
      "With the help of the with keyword..\n",
      "Then closing the file..\n",
      "Appending new data to the file..\n",
      "Without overwriting the file..\n",
      "\n"
     ]
    }
   ],
   "source": [
    "#Read() and with operator:\n",
    "with open('file.txt','r') as file:\n",
    "    print(file.read())"
   ]
  },
  {
   "cell_type": "code",
   "execution_count": 8,
   "id": "0951972b",
   "metadata": {},
   "outputs": [
    {
     "name": "stdout",
     "output_type": "stream",
     "text": [
      "Writing new text to the file..\n",
      "With the \n"
     ]
    }
   ],
   "source": [
    "#Read() specific number of character only:\n",
    "with open('file.txt','r') as file:\n",
    "    print(file.read(40))"
   ]
  },
  {
   "cell_type": "code",
   "execution_count": 10,
   "id": "bad1e7f6",
   "metadata": {},
   "outputs": [
    {
     "name": "stdout",
     "output_type": "stream",
     "text": [
      "Writing new text to the file..\n",
      "\n",
      "With the help of the with keyword..\n",
      "\n",
      "Then closing the file..\n",
      "\n"
     ]
    }
   ],
   "source": [
    "#readline();\n",
    "with open('file.txt','r') as file:\n",
    "    print(file.readline())\n",
    "    print(file.readline())\n",
    "    print(file.readline())\n",
    "    \n",
    "file.close()"
   ]
  },
  {
   "cell_type": "code",
   "execution_count": 11,
   "id": "a0d4bd95",
   "metadata": {},
   "outputs": [
    {
     "name": "stdout",
     "output_type": "stream",
     "text": [
      "Writing new text to the file..\n",
      "\n",
      "With the help of the with keyword..\n",
      "\n",
      "Then closing the file..\n",
      "\n",
      "Appending new data to the file..\n",
      "\n",
      "Without overwriting the file..\n",
      "\n"
     ]
    }
   ],
   "source": [
    "#Readline() using loop:\n",
    "file = open('file.txt', 'r')\n",
    "line = file.readline()\n",
    "\n",
    "while line:\n",
    "    print(line)\n",
    "    line = file.readline()\n",
    "file.close()"
   ]
  },
  {
   "cell_type": "code",
   "execution_count": 13,
   "id": "6a46ef5f",
   "metadata": {},
   "outputs": [
    {
     "name": "stdout",
     "output_type": "stream",
     "text": [
      "['Writing new text to the file..\\n', 'With the help of the with keyword..\\n', 'Then closing the file..\\n', 'Appending new data to the file..\\n', 'Without overwriting the file..\\n']\n",
      "['Writing', 'new', 'text', 'to', 'the', 'file..']\n",
      "['With', 'the', 'help', 'of', 'the', 'with', 'keyword..']\n",
      "['Then', 'closing', 'the', 'file..']\n",
      "['Appending', 'new', 'data', 'to', 'the', 'file..']\n",
      "['Without', 'overwriting', 'the', 'file..']\n"
     ]
    }
   ],
   "source": [
    "#Readline():\n",
    "with open('file.txt', 'r') as file:\n",
    "    data = file.readlines()\n",
    "    print(data)\n",
    "    for i in data:\n",
    "        print(i.split())\n",
    "        \n",
    "file.close()"
   ]
  },
  {
   "cell_type": "code",
   "execution_count": 14,
   "id": "ab706a07",
   "metadata": {},
   "outputs": [],
   "source": [
    "#Pyhton code to create a file\n",
    "file= open('write.txt','w')\n",
    "file.write('this is write command')\n",
    "file.write('\\nWrite in a the file')\n",
    "file.close()"
   ]
  },
  {
   "cell_type": "code",
   "execution_count": 15,
   "id": "89523012",
   "metadata": {},
   "outputs": [],
   "source": [
    "#write() and with keyword:\n",
    "with open('write.txt', 'w') as file:\n",
    "    file.write('Write new text to the file..\\n')\n",
    "    file.write('With the help of the with keyword.. \\n')\n",
    "    file.write('Then closing the file..')\n",
    "    \n",
    "file.close()"
   ]
  },
  {
   "cell_type": "code",
   "execution_count": 16,
   "id": "0937fe00",
   "metadata": {},
   "outputs": [],
   "source": [
    "#writelines()\n",
    "file=open('other_file.txt','w')\n",
    "lst=['Hii,\\n','Hello\\n','How are you doing\\n']\n",
    "file.writelines(lst)\n",
    "file.close()"
   ]
  },
  {
   "cell_type": "code",
   "execution_count": 17,
   "id": "533519f0",
   "metadata": {},
   "outputs": [],
   "source": [
    "#append()\n",
    "file=open('file.txt','w')\n",
    "file.write('\\nAppending to file..\\n')\n",
    "file.write('Without overwriting..\\n')\n",
    "\n",
    "file.close()"
   ]
  },
  {
   "cell_type": "code",
   "execution_count": 18,
   "id": "8ea2f357",
   "metadata": {},
   "outputs": [],
   "source": [
    "#close the file \n"
   ]
  },
  {
   "cell_type": "code",
   "execution_count": 19,
   "id": "62ae9462",
   "metadata": {},
   "outputs": [
    {
     "name": "stdout",
     "output_type": "stream",
     "text": [
      "File is opened successfully\n",
      "False\n",
      "True\n"
     ]
    }
   ],
   "source": [
    "#open the file file.txt in read mode\n",
    "filesp=open('geek.txt','r')\n",
    "if filesp:\n",
    "    print('File is opened successfully')\n",
    "print(filesp.closed)\n",
    "#closes the opened file\n",
    "filesp.close()\n",
    "print(filesp.closed)\n"
   ]
  },
  {
   "cell_type": "markdown",
   "id": "4e5b9063",
   "metadata": {},
   "source": [
    "Using try-finally Block to perform file operations:\n"
   ]
  },
  {
   "cell_type": "code",
   "execution_count": 20,
   "id": "c77cf474",
   "metadata": {},
   "outputs": [
    {
     "name": "stdout",
     "output_type": "stream",
     "text": [
      "File not found.\n"
     ]
    }
   ],
   "source": [
    "try:\n",
    "    filesp= open('g.txt','r')\n",
    "    # perform file operations\n",
    "except FileNotFoundError:\n",
    "    print(FileNotFoundError.__doc__)\n",
    "finally:\n",
    "    filesp.close()\n",
    "    "
   ]
  },
  {
   "cell_type": "code",
   "execution_count": 1,
   "id": "c9a00ec3",
   "metadata": {},
   "outputs": [
    {
     "name": "stdout",
     "output_type": "stream",
     "text": [
      "<_io.TextIOWrapper name='geek.txt' mode='r' encoding='cp1252'>\n"
     ]
    }
   ],
   "source": [
    "file=open('geek.txt','r')\n",
    "print(file)"
   ]
  },
  {
   "cell_type": "code",
   "execution_count": null,
   "id": "32b1368f",
   "metadata": {},
   "outputs": [],
   "source": []
  }
 ],
 "metadata": {
  "kernelspec": {
   "display_name": "Python 3 (ipykernel)",
   "language": "python",
   "name": "python3"
  },
  "language_info": {
   "codemirror_mode": {
    "name": "ipython",
    "version": 3
   },
   "file_extension": ".py",
   "mimetype": "text/x-python",
   "name": "python",
   "nbconvert_exporter": "python",
   "pygments_lexer": "ipython3",
   "version": "3.9.13"
  }
 },
 "nbformat": 4,
 "nbformat_minor": 5
}
