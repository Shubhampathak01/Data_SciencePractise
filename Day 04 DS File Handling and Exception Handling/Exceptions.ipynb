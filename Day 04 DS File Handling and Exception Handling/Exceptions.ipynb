{
 "cells": [
  {
   "cell_type": "markdown",
   "id": "bb4bc7a5",
   "metadata": {},
   "source": [
    "# Examples of Execptions:"
   ]
  },
  {
   "cell_type": "code",
   "execution_count": 1,
   "id": "72fa4934",
   "metadata": {},
   "outputs": [
    {
     "name": "stdout",
     "output_type": "stream",
     "text": [
      "Error: cannot add an list and a str\n",
      "After operation\n"
     ]
    }
   ],
   "source": [
    "#1. TypeError\n",
    "\n",
    "x = 5\n",
    "y = 'Hello'\n",
    "\n",
    "try:\n",
    "    z= x+ y\n",
    "except TypeError:\n",
    "    print('Error: cannot add an list and a str')\n",
    "print('After operation')\n"
   ]
  },
  {
   "cell_type": "code",
   "execution_count": 2,
   "id": "91e24e66",
   "metadata": {},
   "outputs": [
    {
     "name": "stdout",
     "output_type": "stream",
     "text": [
      "second element = 2\n",
      "An error occurred\n",
      "End of exception...\n"
     ]
    }
   ],
   "source": [
    "#2. IndexError: List index out of range \n",
    "# Python program to handle simple runtime error\n",
    "\n",
    "a= [1, 2, 3]\n",
    "try:\n",
    "    print('second element = %d' %(a[1]))\n",
    "    \n",
    "    # Throws error since there are only 3 element in array\n",
    "    print('Fourth element =%d'%(a[3]))\n",
    "    \n",
    "except:\n",
    "    print('An error occurred')\n",
    "    \n",
    "print('End of exception...')\n"
   ]
  },
  {
   "cell_type": "markdown",
   "id": "b0181cc8",
   "metadata": {},
   "source": [
    "# Catching Specific Exception"
   ]
  },
  {
   "cell_type": "code",
   "execution_count": 4,
   "id": "421d5bd1",
   "metadata": {},
   "outputs": [
    {
     "name": "stdout",
     "output_type": "stream",
     "text": [
      "Second argument to a division or modulo operation was zero.\n",
      "2.0\n",
      "[1, 2, 3]\n"
     ]
    }
   ],
   "source": [
    "def func(n):\n",
    "    try:\n",
    "        d = 4/n\n",
    "        print(d)\n",
    "        print(a)\n",
    "    except ZeroDivisionError:\n",
    "        print(ZeroDivisionError.__doc__)\n",
    "    except NameError:\n",
    "        print('Name not defined in the scope...')\n",
    "        \n",
    "func(0)\n",
    "func(2)\n",
    "    "
   ]
  },
  {
   "cell_type": "code",
   "execution_count": 9,
   "id": "ad3f8ed9",
   "metadata": {},
   "outputs": [
    {
     "name": "stdout",
     "output_type": "stream",
     "text": [
      "Second argument to a division or modulo operation was zero.\n",
      "Operation completed\n"
     ]
    }
   ],
   "source": [
    "#use of the finally keyword with try-except\n",
    "\n",
    "try:\n",
    "    d=5/0 \n",
    "except ZeroDivisionError:\n",
    "    print(ZeroDivisionError.__doc__)\n",
    "finally:\n",
    "    print('Operation completed')"
   ]
  },
  {
   "cell_type": "code",
   "execution_count": 10,
   "id": "f6b2575e",
   "metadata": {},
   "outputs": [
    {
     "name": "stdout",
     "output_type": "stream",
     "text": [
      "Cannot divide by 0....\n",
      "End..\n",
      "1.3333333333333333\n",
      "End..\n"
     ]
    }
   ],
   "source": [
    "#try with esle block \n",
    "def func(n):\n",
    "    try:\n",
    "        c=4/n\n",
    "    except ZeroDivisionError:\n",
    "        print('Cannot divide by 0....')\n",
    "    else:\n",
    "        print(c)\n",
    "    finally:\n",
    "        print('End..')\n",
    "            \n",
    "func(0)\n",
    "func(3)"
   ]
  },
  {
   "cell_type": "markdown",
   "id": "f6d67d58",
   "metadata": {},
   "source": [
    "# Raising User defined Exception"
   ]
  },
  {
   "cell_type": "code",
   "execution_count": 11,
   "id": "b4d96ddd",
   "metadata": {},
   "outputs": [
    {
     "name": "stdout",
     "output_type": "stream",
     "text": [
      "Hello Shubham\n",
      "Ankit not having access..\n"
     ]
    }
   ],
   "source": [
    "def func(name):\n",
    "    try:\n",
    "        if name=='Shubham':\n",
    "            print('Hello', name)\n",
    "        else:\n",
    "            raise NameError(name,'not having access..')\n",
    "    except NameError:\n",
    "        print(name,'not having access..')\n",
    "        \n",
    "func('Shubham')\n",
    "func('Ankit')"
   ]
  },
  {
   "cell_type": "code",
   "execution_count": 12,
   "id": "78b525a9",
   "metadata": {},
   "outputs": [
    {
     "name": "stdout",
     "output_type": "stream",
     "text": [
      "Hello Shubham\n",
      "End...\n",
      "Hello Ankit\n",
      "End...\n",
      "End...\n"
     ]
    },
    {
     "ename": "NameError",
     "evalue": "name 'NotaAuthorizedError' is not defined",
     "output_type": "error",
     "traceback": [
      "\u001b[1;31m---------------------------------------------------------------------------\u001b[0m",
      "\u001b[1;31mNotAuthorizedError\u001b[0m                        Traceback (most recent call last)",
      "\u001b[1;32m~\\AppData\\Local\\Temp\\ipykernel_11448\\3059774903.py\u001b[0m in \u001b[0;36mwish\u001b[1;34m(name)\u001b[0m\n\u001b[0;32m     15\u001b[0m         \u001b[1;32melse\u001b[0m\u001b[1;33m:\u001b[0m\u001b[1;33m\u001b[0m\u001b[1;33m\u001b[0m\u001b[0m\n\u001b[1;32m---> 16\u001b[1;33m             \u001b[1;32mraise\u001b[0m \u001b[0mNotAuthorizedError\u001b[0m\u001b[1;33m(\u001b[0m\u001b[0mname\u001b[0m\u001b[1;33m)\u001b[0m\u001b[1;33m\u001b[0m\u001b[1;33m\u001b[0m\u001b[0m\n\u001b[0m\u001b[0;32m     17\u001b[0m     \u001b[1;32mexcept\u001b[0m \u001b[0mNotAuthorizedError\u001b[0m\u001b[1;33m:\u001b[0m\u001b[1;33m\u001b[0m\u001b[1;33m\u001b[0m\u001b[0m\n",
      "\u001b[1;31mNotAuthorizedError\u001b[0m: 'Shiva, is not authorized. '",
      "\nDuring handling of the above exception, another exception occurred:\n",
      "\u001b[1;31mNameError\u001b[0m                                 Traceback (most recent call last)",
      "\u001b[1;32m~\\AppData\\Local\\Temp\\ipykernel_11448\\3059774903.py\u001b[0m in \u001b[0;36m<module>\u001b[1;34m\u001b[0m\n\u001b[0;32m     23\u001b[0m \u001b[0mwish\u001b[0m\u001b[1;33m(\u001b[0m\u001b[1;34m'Shubham'\u001b[0m\u001b[1;33m)\u001b[0m\u001b[1;33m\u001b[0m\u001b[1;33m\u001b[0m\u001b[0m\n\u001b[0;32m     24\u001b[0m \u001b[0mwish\u001b[0m\u001b[1;33m(\u001b[0m\u001b[1;34m'Ankit'\u001b[0m\u001b[1;33m)\u001b[0m\u001b[1;33m\u001b[0m\u001b[1;33m\u001b[0m\u001b[0m\n\u001b[1;32m---> 25\u001b[1;33m \u001b[0mwish\u001b[0m\u001b[1;33m(\u001b[0m\u001b[1;34m'Shiva'\u001b[0m\u001b[1;33m)\u001b[0m\u001b[1;33m\u001b[0m\u001b[1;33m\u001b[0m\u001b[0m\n\u001b[0m\u001b[0;32m     26\u001b[0m \u001b[0mwish\u001b[0m\u001b[1;33m(\u001b[0m\u001b[1;34m'kanha'\u001b[0m\u001b[1;33m)\u001b[0m\u001b[1;33m\u001b[0m\u001b[1;33m\u001b[0m\u001b[0m\n",
      "\u001b[1;32m~\\AppData\\Local\\Temp\\ipykernel_11448\\3059774903.py\u001b[0m in \u001b[0;36mwish\u001b[1;34m(name)\u001b[0m\n\u001b[0;32m     16\u001b[0m             \u001b[1;32mraise\u001b[0m \u001b[0mNotAuthorizedError\u001b[0m\u001b[1;33m(\u001b[0m\u001b[0mname\u001b[0m\u001b[1;33m)\u001b[0m\u001b[1;33m\u001b[0m\u001b[1;33m\u001b[0m\u001b[0m\n\u001b[0;32m     17\u001b[0m     \u001b[1;32mexcept\u001b[0m \u001b[0mNotAuthorizedError\u001b[0m\u001b[1;33m:\u001b[0m\u001b[1;33m\u001b[0m\u001b[1;33m\u001b[0m\u001b[0m\n\u001b[1;32m---> 18\u001b[1;33m         \u001b[0mprint\u001b[0m\u001b[1;33m(\u001b[0m\u001b[0mNotaAuthorizedError\u001b[0m\u001b[1;33m.\u001b[0m\u001b[0m__doc__\u001b[0m\u001b[1;33m)\u001b[0m\u001b[1;33m\u001b[0m\u001b[1;33m\u001b[0m\u001b[0m\n\u001b[0m\u001b[0;32m     19\u001b[0m         \u001b[1;32mraise\u001b[0m\u001b[1;33m\u001b[0m\u001b[1;33m\u001b[0m\u001b[0m\n\u001b[0;32m     20\u001b[0m     \u001b[1;32mfinally\u001b[0m\u001b[1;33m:\u001b[0m\u001b[1;33m\u001b[0m\u001b[1;33m\u001b[0m\u001b[0m\n",
      "\u001b[1;31mNameError\u001b[0m: name 'NotaAuthorizedError' is not defined"
     ]
    }
   ],
   "source": [
    "#User-defined Exception\n",
    "\n",
    "class NotAuthorizedError(Exception):\n",
    "    '''User is not authorized'''\n",
    "    def __init__(self, value, *args: object) -> None:\n",
    "        super().__init__(*args)\n",
    "        self.value = value+', is not authorized. '\n",
    "    def __str__(self):\n",
    "        return(repr(self.value))\n",
    "    \n",
    "def wish(name):\n",
    "    try:\n",
    "        if name =='Shubham' or name=='Ankit':\n",
    "            print('Hello', name)\n",
    "        else:\n",
    "            raise NotAuthorizedError(name)\n",
    "    except NotAuthorizedError:\n",
    "        print(NotaAuthorizedError.__doc__)\n",
    "        raise\n",
    "    finally:\n",
    "        print('End...')\n",
    "        \n",
    "wish('Shubham')\n",
    "wish('Ankit')\n",
    "wish('Shiva')\n",
    "wish('kanha')\n"
   ]
  },
  {
   "cell_type": "markdown",
   "id": "45b13a48",
   "metadata": {},
   "source": [
    "# Error vs Exception"
   ]
  },
  {
   "cell_type": "code",
   "execution_count": 13,
   "id": "7d7cb54b",
   "metadata": {},
   "outputs": [
    {
     "ename": "SyntaxError",
     "evalue": "invalid syntax (2124256267.py, line 2)",
     "output_type": "error",
     "traceback": [
      "\u001b[1;36m  File \u001b[1;32m\"C:\\Users\\bluechip\\AppData\\Local\\Temp\\ipykernel_11448\\2124256267.py\"\u001b[1;36m, line \u001b[1;32m2\u001b[0m\n\u001b[1;33m    =9\u001b[0m\n\u001b[1;37m    ^\u001b[0m\n\u001b[1;31mSyntaxError\u001b[0m\u001b[1;31m:\u001b[0m invalid syntax\n"
     ]
    }
   ],
   "source": [
    "try:\n",
    "    =9\n",
    "except SyntaxError:\n",
    "    print(SyntaxError.__doc__)\n",
    "else:\n",
    "    pritn('Nothing..')"
   ]
  },
  {
   "cell_type": "code",
   "execution_count": null,
   "id": "2263703e",
   "metadata": {},
   "outputs": [],
   "source": []
  }
 ],
 "metadata": {
  "kernelspec": {
   "display_name": "Python 3 (ipykernel)",
   "language": "python",
   "name": "python3"
  },
  "language_info": {
   "codemirror_mode": {
    "name": "ipython",
    "version": 3
   },
   "file_extension": ".py",
   "mimetype": "text/x-python",
   "name": "python",
   "nbconvert_exporter": "python",
   "pygments_lexer": "ipython3",
   "version": "3.9.13"
  }
 },
 "nbformat": 4,
 "nbformat_minor": 5
}
