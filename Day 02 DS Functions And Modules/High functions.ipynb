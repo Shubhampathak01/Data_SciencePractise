{
 "cells": [
  {
   "cell_type": "code",
   "execution_count": 1,
   "id": "3dcc6e27",
   "metadata": {},
   "outputs": [
    {
     "name": "stdout",
     "output_type": "stream",
     "text": [
      "24\n",
      "25\n"
     ]
    }
   ],
   "source": [
    "# lambda Function\n",
    "ad=lambda x:x+13\n",
    "print(ad(11))\n",
    "\n",
    "sqr=lambda a:a**2\n",
    "print(sqr(5))"
   ]
  },
  {
   "cell_type": "code",
   "execution_count": 2,
   "id": "ae48813a",
   "metadata": {},
   "outputs": [
    {
     "name": "stdout",
     "output_type": "stream",
     "text": [
      "[1, 4, 9, 16, 25, 36]\n",
      "[21, 22, 23, 24, 25, 26]\n"
     ]
    }
   ],
   "source": [
    "##map (func, iterable)\n",
    "\n",
    "lst=[1,2,3,4,5,6]\n",
    "\n",
    "sqrs=list(map(sqr,lst))\n",
    "print(sqrs)\n",
    "\n",
    "ads=list(map(lambda a:a+20, lst))\n",
    "print(ads)"
   ]
  },
  {
   "cell_type": "code",
   "execution_count": 3,
   "id": "d8d51435",
   "metadata": {},
   "outputs": [
    {
     "name": "stdout",
     "output_type": "stream",
     "text": [
      "[2, 4, 6, 8, 10, 12, 14, 16, 18, 20, 22]\n",
      "[1, 3, 5, 7, 9, 11, 13, 15, 17, 19, 21]\n"
     ]
    }
   ],
   "source": [
    "#filter (condition,iterable )\n",
    "\n",
    "even = list(filter(lambda x:x%2==0, range(1,23)))\n",
    "print(even)\n",
    "\n",
    "odd=list(filter(lambda x:x%2==1, range(1,23)))\n",
    "print(odd)"
   ]
  },
  {
   "cell_type": "code",
   "execution_count": 6,
   "id": "cf7ae5d3",
   "metadata": {},
   "outputs": [
    {
     "name": "stdout",
     "output_type": "stream",
     "text": [
      "253\n"
     ]
    }
   ],
   "source": [
    "#reduce\n",
    "from functools import reduce\n",
    "\n",
    "a= reduce(lambda a,b:a+b, range(1,23))\n",
    "print(a)"
   ]
  },
  {
   "cell_type": "code",
   "execution_count": null,
   "id": "70aadf76",
   "metadata": {},
   "outputs": [],
   "source": []
  }
 ],
 "metadata": {
  "kernelspec": {
   "display_name": "Python 3 (ipykernel)",
   "language": "python",
   "name": "python3"
  },
  "language_info": {
   "codemirror_mode": {
    "name": "ipython",
    "version": 3
   },
   "file_extension": ".py",
   "mimetype": "text/x-python",
   "name": "python",
   "nbconvert_exporter": "python",
   "pygments_lexer": "ipython3",
   "version": "3.9.13"
  }
 },
 "nbformat": 4,
 "nbformat_minor": 5
}
