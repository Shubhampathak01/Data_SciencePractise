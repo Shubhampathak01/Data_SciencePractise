{
 "cells": [
  {
   "cell_type": "markdown",
   "id": "ecfc37cd",
   "metadata": {},
   "source": [
    "# Functions"
   ]
  },
  {
   "cell_type": "code",
   "execution_count": 1,
   "id": "e82f526b",
   "metadata": {},
   "outputs": [],
   "source": [
    "# create user defined function\n",
    "def greet():\n",
    "    print('Hello follower')"
   ]
  },
  {
   "cell_type": "code",
   "execution_count": 2,
   "id": "3a2f88a1",
   "metadata": {},
   "outputs": [
    {
     "name": "stdout",
     "output_type": "stream",
     "text": [
      "Hello follower\n"
     ]
    }
   ],
   "source": [
    "greet()"
   ]
  },
  {
   "cell_type": "code",
   "execution_count": 3,
   "id": "c2ddea55",
   "metadata": {},
   "outputs": [
    {
     "name": "stdout",
     "output_type": "stream",
     "text": [
      "5\n"
     ]
    }
   ],
   "source": [
    "def addition(n1,n2):\n",
    "    print(n1+n2)\n",
    "\n",
    "addition(2,3)"
   ]
  },
  {
   "cell_type": "code",
   "execution_count": 4,
   "id": "42fe4a92",
   "metadata": {},
   "outputs": [
    {
     "name": "stdout",
     "output_type": "stream",
     "text": [
      "Before function :10\n",
      "In function:11\n",
      "After finction:10\n"
     ]
    }
   ],
   "source": [
    "#Call by value - immutable data types are called by value\n",
    "def increment(n):\n",
    "    n+=1\n",
    "    print('In function:'+str(n))\n",
    "    \n",
    "n=10\n",
    "print('Before function :'+str(n))\n",
    "increment(n)\n",
    "print('After finction:'+str(n))\n"
   ]
  },
  {
   "cell_type": "code",
   "execution_count": 5,
   "id": "bb59e192",
   "metadata": {},
   "outputs": [
    {
     "name": "stdout",
     "output_type": "stream",
     "text": [
      "before function: [1, 2, 3, 4, 5]\n",
      "In function : [1, 2, 3, 4, 5, 1234]\n",
      "After function: [1, 2, 3, 4, 5, 1234]\n"
     ]
    }
   ],
   "source": [
    "# Call by reference - all mutable data type values are called by reference\n",
    "def do(lst):\n",
    "    lst.append(1234)\n",
    "    print('In function :',lst)\n",
    "    \n",
    "lst=[1,2,3,4,5]\n",
    "print('before function:', lst)\n",
    "do(lst)\n",
    "print('After function:',lst)"
   ]
  },
  {
   "cell_type": "code",
   "execution_count": 6,
   "id": "89e1f7a9",
   "metadata": {},
   "outputs": [
    {
     "name": "stdout",
     "output_type": "stream",
     "text": [
      "20\n"
     ]
    }
   ],
   "source": [
    "#reutrn statement\n",
    "def subtract(n1,n2):\n",
    "    return n1-n2\n",
    "sp= subtract(30,10)\n",
    "print(sp)"
   ]
  },
  {
   "cell_type": "code",
   "execution_count": 7,
   "id": "d193fd6d",
   "metadata": {},
   "outputs": [
    {
     "name": "stdout",
     "output_type": "stream",
     "text": [
      "20 + 30 = 50\n",
      "20 + 20 = 40\n"
     ]
    }
   ],
   "source": [
    "#default arguments\n",
    "def adds(n1,n2=30):\n",
    "    print(n1,'+', n2,'=',n1+n2)\n",
    "    \n",
    "adds(20)\n",
    "adds(20,20)"
   ]
  },
  {
   "cell_type": "code",
   "execution_count": 8,
   "id": "dada2f5f",
   "metadata": {},
   "outputs": [
    {
     "name": "stdout",
     "output_type": "stream",
     "text": [
      "PG 123 Shubham\n",
      "PG 123 shubham\n",
      "PG 123 shubham\n",
      "PG 123 shubham\n"
     ]
    }
   ],
   "source": [
    "#keyword arguments\n",
    "def prints(name, clas, roll):\n",
    "    print(clas, roll, name)\n",
    "\n",
    "prints('Shubham', 'PG', 123)\n",
    "prints(clas='PG',name='shubham',roll=123)\n",
    "prints(name='shubham',clas='PG', roll=123)\n",
    "prints(roll=123, name='shubham', clas='PG')"
   ]
  },
  {
   "cell_type": "code",
   "execution_count": 9,
   "id": "22e9cc7a",
   "metadata": {},
   "outputs": [
    {
     "name": "stdout",
     "output_type": "stream",
     "text": [
      "23 shubham\n",
      "shubham 23\n"
     ]
    }
   ],
   "source": [
    "#postional arguments\n",
    "def rp(age , name ):\n",
    "    print(age, name)\n",
    "    \n",
    "rp(23, 'shubham')\n",
    "rp('shubham',23)"
   ]
  },
  {
   "cell_type": "code",
   "execution_count": 10,
   "id": "7679b06f",
   "metadata": {},
   "outputs": [
    {
     "name": "stdout",
     "output_type": "stream",
     "text": [
      "14\n",
      "22.6\n",
      "99\n",
      "0\n"
     ]
    }
   ],
   "source": [
    "#Arbitrary argument\n",
    "# 1 arg\n",
    "def sums(n1, *args):\n",
    "    s=0\n",
    "    for i in args:\n",
    "        s+=i\n",
    "    print(s)\n",
    "sums(1,2,3,4,5)\n",
    "sums(1,2,3,4,5.6,3,5)\n",
    "sums(11,22,33,44)\n",
    "sums(1)"
   ]
  },
  {
   "cell_type": "code",
   "execution_count": 11,
   "id": "4849cc7f",
   "metadata": {},
   "outputs": [
    {
     "name": "stdout",
     "output_type": "stream",
     "text": [
      "{'name': 'shubham '}\n",
      "\n",
      "{'name': 'shubham', 'age': 23}\n",
      "\n",
      "{'name': 'shubham ', 'age': 23, 'clas': 'PG'}\n",
      "\n"
     ]
    }
   ],
   "source": [
    "#2 kwargs\n",
    "def info(**kwargs):\n",
    "    print(kwargs)\n",
    "    #for i in kwargs.item():\n",
    "        #print(i)\n",
    "    print()\n",
    "    \n",
    "info(name='shubham ')\n",
    "info(name='shubham', age =23)\n",
    "info(name='shubham ', age=23, clas='PG')"
   ]
  },
  {
   "cell_type": "code",
   "execution_count": 12,
   "id": "6f9833b5",
   "metadata": {},
   "outputs": [
    {
     "name": "stdout",
     "output_type": "stream",
     "text": [
      "Function return concatenated string\n"
     ]
    }
   ],
   "source": [
    "#Doc string \n",
    "def adds(s1,s2):\n",
    "    'Function return concatenated string'\n",
    "    s=s1+s2\n",
    "    return s\n",
    "print(adds.__doc__)"
   ]
  },
  {
   "cell_type": "code",
   "execution_count": 13,
   "id": "48f5cbcb",
   "metadata": {},
   "outputs": [
    {
     "name": "stdout",
     "output_type": "stream",
     "text": [
      "Function 1 body..\n",
      "function 2 body\n",
      "Function 1 body\n",
      "Function 1 body..\n",
      "function 2 body\n",
      "Function 1 body\n"
     ]
    }
   ],
   "source": [
    "#Function within Function\n",
    "def f1():\n",
    "    print('Function 1 body..')\n",
    "    def f2():\n",
    "        print('function 2 body')\n",
    "    f2()\n",
    "    print('Function 1 body')\n",
    "\n",
    "f1()\n",
    "f1()"
   ]
  },
  {
   "cell_type": "code",
   "execution_count": 14,
   "id": "ce1d6bea",
   "metadata": {},
   "outputs": [
    {
     "name": "stdout",
     "output_type": "stream",
     "text": [
      "900\n"
     ]
    }
   ],
   "source": [
    "#Anonymous (lambda) function\n",
    "sqr= lambda x:x**2\n",
    "print(sqr(30))"
   ]
  },
  {
   "cell_type": "code",
   "execution_count": 15,
   "id": "2e6056c7",
   "metadata": {},
   "outputs": [
    {
     "name": "stdout",
     "output_type": "stream",
     "text": [
      "33\n"
     ]
    }
   ],
   "source": [
    "adds= lambda y:y+23\n",
    "print(adds(10))"
   ]
  },
  {
   "cell_type": "code",
   "execution_count": 16,
   "id": "61d66421",
   "metadata": {},
   "outputs": [
    {
     "name": "stdout",
     "output_type": "stream",
     "text": [
      "False\n",
      "True\n"
     ]
    }
   ],
   "source": [
    "even = lambda a:a%2==0\n",
    "print(even(5))\n",
    "print(even(8))"
   ]
  },
  {
   "cell_type": "code",
   "execution_count": 17,
   "id": "fa3759cd",
   "metadata": {},
   "outputs": [
    {
     "name": "stdout",
     "output_type": "stream",
     "text": [
      "10 29\n",
      "10 10 12\n",
      "29\n",
      "10 29\n"
     ]
    }
   ],
   "source": [
    "#variable scope\n",
    "n,m=10,29\n",
    "print(n,m)\n",
    "def func(n):\n",
    "    a=10\n",
    "    global b\n",
    "    b=12\n",
    "    print(a,n,b)\n",
    "    print(m)\n",
    "\n",
    "func(n)\n",
    "print(n,m)"
   ]
  },
  {
   "cell_type": "code",
   "execution_count": 18,
   "id": "3d09ecc2",
   "metadata": {},
   "outputs": [
    {
     "name": "stdout",
     "output_type": "stream",
     "text": [
      "1\n"
     ]
    }
   ],
   "source": [
    "# yield vs return \n",
    "def fun1(n):\n",
    "    for i in range(1,n):\n",
    "        return i**2\n",
    "print(fun1(10))\n",
    "\n"
   ]
  },
  {
   "cell_type": "code",
   "execution_count": 19,
   "id": "aba1bb23",
   "metadata": {},
   "outputs": [
    {
     "name": "stdout",
     "output_type": "stream",
     "text": [
      "[1, 4, 9, 16]\n"
     ]
    }
   ],
   "source": [
    "def fun2(n):\n",
    "    for i in range(1,n):\n",
    "        yield i**2\n",
    "print(list(fun2(5)))"
   ]
  }
 ],
 "metadata": {
  "kernelspec": {
   "display_name": "Python 3 (ipykernel)",
   "language": "python",
   "name": "python3"
  },
  "language_info": {
   "codemirror_mode": {
    "name": "ipython",
    "version": 3
   },
   "file_extension": ".py",
   "mimetype": "text/x-python",
   "name": "python",
   "nbconvert_exporter": "python",
   "pygments_lexer": "ipython3",
   "version": "3.9.13"
  }
 },
 "nbformat": 4,
 "nbformat_minor": 5
}
