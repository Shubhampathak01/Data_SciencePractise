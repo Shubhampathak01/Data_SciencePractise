{
 "cells": [
  {
   "cell_type": "code",
   "execution_count": 1,
   "id": "0d6ca02d",
   "metadata": {},
   "outputs": [
    {
     "name": "stdout",
     "output_type": "stream",
     "text": [
      "1 2 3 4 5 6 \n"
     ]
    }
   ],
   "source": [
    "s= input()"
   ]
  },
  {
   "cell_type": "code",
   "execution_count": 2,
   "id": "f5901c67",
   "metadata": {},
   "outputs": [
    {
     "name": "stdout",
     "output_type": "stream",
     "text": [
      "1 2 3 4 5 6 \n"
     ]
    }
   ],
   "source": [
    "print(s)"
   ]
  },
  {
   "cell_type": "code",
   "execution_count": 4,
   "id": "bd6583eb",
   "metadata": {},
   "outputs": [
    {
     "name": "stdout",
     "output_type": "stream",
     "text": [
      "['1', '2', '3', '4', '5', '6']\n"
     ]
    }
   ],
   "source": [
    "l = s.split()\n",
    "print(l)"
   ]
  },
  {
   "cell_type": "code",
   "execution_count": 5,
   "id": "a2a570de",
   "metadata": {},
   "outputs": [
    {
     "name": "stdout",
     "output_type": "stream",
     "text": [
      "[1, 2, 3, 4, 5, 6]\n"
     ]
    }
   ],
   "source": [
    "i = [int(i) for i in s.split()]\n",
    "print(i)"
   ]
  },
  {
   "cell_type": "code",
   "execution_count": 6,
   "id": "fb2614a1",
   "metadata": {},
   "outputs": [
    {
     "name": "stdout",
     "output_type": "stream",
     "text": [
      "[1, 2, 3, 4, 5, 6, 2, 78, 90]\n"
     ]
    }
   ],
   "source": [
    "i.extend((2,78,90))\n",
    "print(i)"
   ]
  },
  {
   "cell_type": "code",
   "execution_count": 7,
   "id": "38a7b300",
   "metadata": {},
   "outputs": [
    {
     "name": "stdout",
     "output_type": "stream",
     "text": [
      "[1, 2, 3, 4, 5, 6, 2, 78, 90, 67, 4, 23]\n"
     ]
    }
   ],
   "source": [
    "i.extend({4,67,23})\n",
    "print(i)"
   ]
  },
  {
   "cell_type": "code",
   "execution_count": 8,
   "id": "34138a9b",
   "metadata": {},
   "outputs": [
    {
     "name": "stdout",
     "output_type": "stream",
     "text": [
      "[1, [0, 0], 2, 3, 4, 5, 6, 2, 78, 90, 67, 4, 23]\n"
     ]
    }
   ],
   "source": [
    "i.insert(1,[0,0])\n",
    "print(i)"
   ]
  },
  {
   "cell_type": "code",
   "execution_count": 9,
   "id": "7a65ad3a",
   "metadata": {},
   "outputs": [
    {
     "name": "stdout",
     "output_type": "stream",
     "text": [
      "0\n"
     ]
    }
   ],
   "source": [
    "print(i.index(1))"
   ]
  },
  {
   "cell_type": "code",
   "execution_count": 12,
   "id": "c5776f93",
   "metadata": {},
   "outputs": [
    {
     "name": "stdout",
     "output_type": "stream",
     "text": [
      "12\n"
     ]
    }
   ],
   "source": [
    "print(i.index(23))"
   ]
  },
  {
   "cell_type": "code",
   "execution_count": 13,
   "id": "eccdbd0a",
   "metadata": {},
   "outputs": [
    {
     "name": "stdout",
     "output_type": "stream",
     "text": [
      "[2, 3, 4, 5, 6, 7, 3, 5, 6, 3]\n",
      "[2, 4, 5, 6, 7, 3, 5, 6, 3]\n"
     ]
    }
   ],
   "source": [
    "d=[2,3,4,5,6,7,3,5,6,3]\n",
    "print(d)\n",
    "d.remove(3)\n",
    "print(d)"
   ]
  },
  {
   "cell_type": "code",
   "execution_count": 14,
   "id": "b93996a1",
   "metadata": {},
   "outputs": [
    {
     "name": "stdout",
     "output_type": "stream",
     "text": [
      "[2, 4, 5, 6, 7]\n"
     ]
    }
   ],
   "source": [
    "del d[-4:]\n",
    "print(d)"
   ]
  },
  {
   "cell_type": "code",
   "execution_count": 17,
   "id": "a5567fec",
   "metadata": {},
   "outputs": [
    {
     "name": "stdout",
     "output_type": "stream",
     "text": [
      "[0, 9, 8, 0, 9, 8, 0, 9, 8, 0, 9, 8, 0, 9, 8]\n"
     ]
    }
   ],
   "source": [
    "d=[0,9,8]*5\n",
    "print(d)"
   ]
  },
  {
   "cell_type": "code",
   "execution_count": 18,
   "id": "394d1784",
   "metadata": {},
   "outputs": [
    {
     "name": "stdout",
     "output_type": "stream",
     "text": [
      "True\n",
      "False\n"
     ]
    }
   ],
   "source": [
    "print(0 in d)\n",
    "print(90 in d)"
   ]
  },
  {
   "cell_type": "code",
   "execution_count": 19,
   "id": "f6b7b2cc",
   "metadata": {},
   "outputs": [
    {
     "name": "stdout",
     "output_type": "stream",
     "text": [
      "[0, 9, 8, 0, 9, 8, 0, 9, 8, 0, 9, 8, 0, 9, 8]\n"
     ]
    }
   ],
   "source": [
    "f= d.copy()\n",
    "print(f)"
   ]
  },
  {
   "cell_type": "code",
   "execution_count": 20,
   "id": "ced45465",
   "metadata": {},
   "outputs": [
    {
     "name": "stdout",
     "output_type": "stream",
     "text": [
      "True\n"
     ]
    }
   ],
   "source": [
    "print(f==d)\n"
   ]
  },
  {
   "cell_type": "code",
   "execution_count": 21,
   "id": "2533f6e4",
   "metadata": {},
   "outputs": [
    {
     "name": "stdout",
     "output_type": "stream",
     "text": [
      "False\n"
     ]
    }
   ],
   "source": [
    "print(f is d)"
   ]
  },
  {
   "cell_type": "code",
   "execution_count": 22,
   "id": "f4efd916",
   "metadata": {},
   "outputs": [
    {
     "name": "stdout",
     "output_type": "stream",
     "text": [
      "True\n"
     ]
    }
   ],
   "source": [
    "d= [1,2,3,4,5]\n",
    "c=d\n",
    "print(c is d)"
   ]
  },
  {
   "cell_type": "code",
   "execution_count": 23,
   "id": "a18ef368",
   "metadata": {},
   "outputs": [
    {
     "name": "stdout",
     "output_type": "stream",
     "text": [
      "False\n"
     ]
    }
   ],
   "source": [
    "f= d.copy()\n",
    "print(f is d)"
   ]
  },
  {
   "cell_type": "code",
   "execution_count": 24,
   "id": "1bde621f",
   "metadata": {},
   "outputs": [
    {
     "name": "stdout",
     "output_type": "stream",
     "text": [
      "1\n",
      "2\n",
      "2\n"
     ]
    }
   ],
   "source": [
    "t=[1,2,3,2,4,3,5,6]\n",
    "print(t.count(1))\n",
    "print(t.count(2))\n",
    "print(t.count(3))\n"
   ]
  },
  {
   "cell_type": "code",
   "execution_count": 25,
   "id": "c7f1c54b",
   "metadata": {},
   "outputs": [
    {
     "name": "stdout",
     "output_type": "stream",
     "text": [
      "26\n",
      "1\n",
      "6\n"
     ]
    }
   ],
   "source": [
    "print(sum(t))\n",
    "print(min(t))\n",
    "print(max(t))"
   ]
  },
  {
   "cell_type": "code",
   "execution_count": 28,
   "id": "51ad626f",
   "metadata": {},
   "outputs": [
    {
     "name": "stdout",
     "output_type": "stream",
     "text": [
      "[1, 2, 3, 4, 5] [1, 2, 3, 4, 5]\n"
     ]
    }
   ],
   "source": [
    "c= [1,2,3,4,5]\n",
    "print(c,d)"
   ]
  },
  {
   "cell_type": "code",
   "execution_count": 29,
   "id": "fc51d63f",
   "metadata": {},
   "outputs": [
    {
     "name": "stdout",
     "output_type": "stream",
     "text": [
      "True\n",
      "True\n"
     ]
    }
   ],
   "source": [
    "t= [True , False, True, False]\n",
    "q=['', '', '', False, 0, [0]]\n",
    "print(any(t))\n",
    "print(any(q))"
   ]
  },
  {
   "cell_type": "code",
   "execution_count": 31,
   "id": "66c585aa",
   "metadata": {},
   "outputs": [
    {
     "name": "stdout",
     "output_type": "stream",
     "text": [
      "True\n",
      "True\n",
      "True\n"
     ]
    }
   ],
   "source": [
    "d=[True, True, True]\n",
    "print(all(d))\n",
    "\n",
    "f=['f', [0]]\n",
    "print(all(f))\n",
    "\n",
    "print(all([]))"
   ]
  },
  {
   "cell_type": "code",
   "execution_count": 32,
   "id": "ded928de",
   "metadata": {},
   "outputs": [
    {
     "name": "stdout",
     "output_type": "stream",
     "text": [
      "[(0, 1), (1, 2), (2, 3), (3, 4), (4, 5), (5, 6)]\n"
     ]
    }
   ],
   "source": [
    "c= [1,2,3,4,5,6]\n",
    "\n",
    "print(list(enumerate(c)))"
   ]
  },
  {
   "cell_type": "code",
   "execution_count": 35,
   "id": "af63d400",
   "metadata": {},
   "outputs": [
    {
     "name": "stdout",
     "output_type": "stream",
     "text": [
      "[(0, '1'), (1, 's'), (2, 'd'), (3, 'f'), (4, 'i')]\n"
     ]
    }
   ],
   "source": [
    "d=['1','s','d', 'f','i']\n",
    "print(list(enumerate(d)))"
   ]
  },
  {
   "cell_type": "code",
   "execution_count": 36,
   "id": "ea555f3a",
   "metadata": {},
   "outputs": [
    {
     "name": "stdout",
     "output_type": "stream",
     "text": [
      "1 1\n",
      "2 s\n",
      "3 d\n",
      "4 f\n",
      "5 i\n"
     ]
    }
   ],
   "source": [
    "for i,t in enumerate(d, 1):print(i, t)"
   ]
  },
  {
   "cell_type": "code",
   "execution_count": 38,
   "id": "46dafd9a",
   "metadata": {},
   "outputs": [
    {
     "name": "stdout",
     "output_type": "stream",
     "text": [
      "[0, 1, 4, 9, 16]\n"
     ]
    }
   ],
   "source": [
    "d= [i**2 for i in range(5)] \n",
    "print(d)"
   ]
  },
  {
   "cell_type": "code",
   "execution_count": null,
   "id": "9b7bc90d",
   "metadata": {},
   "outputs": [],
   "source": []
  }
 ],
 "metadata": {
  "kernelspec": {
   "display_name": "Python 3 (ipykernel)",
   "language": "python",
   "name": "python3"
  },
  "language_info": {
   "codemirror_mode": {
    "name": "ipython",
    "version": 3
   },
   "file_extension": ".py",
   "mimetype": "text/x-python",
   "name": "python",
   "nbconvert_exporter": "python",
   "pygments_lexer": "ipython3",
   "version": "3.9.13"
  }
 },
 "nbformat": 4,
 "nbformat_minor": 5
}
