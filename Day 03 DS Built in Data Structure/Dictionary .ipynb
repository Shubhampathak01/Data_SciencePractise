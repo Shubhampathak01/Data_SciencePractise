{
 "cells": [
  {
   "cell_type": "code",
   "execution_count": 1,
   "id": "3bbff160",
   "metadata": {},
   "outputs": [
    {
     "name": "stdout",
     "output_type": "stream",
     "text": [
      "{1: 'shubham', 2: 'dev', 3: 'ankit', 4: 'yash'}\n"
     ]
    }
   ],
   "source": [
    "d= {1:'shubham', 2:'dev', 3:'ankit', 4:'yash'}\n",
    "print(d)"
   ]
  },
  {
   "cell_type": "code",
   "execution_count": 2,
   "id": "033ff1d8",
   "metadata": {},
   "outputs": [
    {
     "name": "stdout",
     "output_type": "stream",
     "text": [
      "{'name': 'shubham', 'age': 22, 'address': 'delhi', 'marks': [99, 100], 'subjects': ('OS', 'DB', 'DSA', 'AS400')}\n"
     ]
    }
   ],
   "source": [
    "sub= ('OS','DB','DSA','AS400')\n",
    "d={'name':'shubham', 'age':22, 'address':'delhi', 'marks':[99,100], 'subjects':sub}\n",
    "print(d)"
   ]
  },
  {
   "cell_type": "code",
   "execution_count": 4,
   "id": "e63cecd6",
   "metadata": {},
   "outputs": [
    {
     "name": "stdout",
     "output_type": "stream",
     "text": [
      "{1: 'Shubham', 2: 'Kal', 3: 'Shiv', 4: 'shubh'}\n"
     ]
    }
   ],
   "source": [
    "#creating Dictionary with dict() method\n",
    "t=[(1, 'Shubham'), (2, 'Kal'),(3,'Shiv'), (4,'shubh')]\n",
    "d1=dict(t)\n",
    "print(d1)"
   ]
  },
  {
   "cell_type": "code",
   "execution_count": 6,
   "id": "3fd9ff56",
   "metadata": {},
   "outputs": [
    {
     "name": "stdout",
     "output_type": "stream",
     "text": [
      "{1: 23, (1, 2): 34}\n"
     ]
    }
   ],
   "source": [
    "t= (1,2)\n",
    "d={1:23, t:34}\n",
    "print(d)"
   ]
  },
  {
   "cell_type": "code",
   "execution_count": 7,
   "id": "eb7eb65f",
   "metadata": {},
   "outputs": [
    {
     "name": "stdout",
     "output_type": "stream",
     "text": [
      "['delhi', 'noida']\n"
     ]
    }
   ],
   "source": [
    "#acess the dict values \n",
    "\n",
    "d={'name':'shubham', 'age': 25, 'addr':['delhi', 'noida']}\n",
    "print(d['addr'])"
   ]
  },
  {
   "cell_type": "code",
   "execution_count": 9,
   "id": "9cd48fbe",
   "metadata": {},
   "outputs": [
    {
     "name": "stdout",
     "output_type": "stream",
     "text": [
      "dict_items([('name', 'shubham'), ('age', 25), ('addr', ['delhi', 'noida'])])\n",
      "dict_keys(['name', 'age', 'addr'])\n",
      "dict_values(['shubham', 25, ['delhi', 'noida']])\n"
     ]
    }
   ],
   "source": [
    "print(d.items())\n",
    "print(d.keys())\n",
    "print(d.values())"
   ]
  },
  {
   "cell_type": "code",
   "execution_count": 10,
   "id": "87c39f1d",
   "metadata": {},
   "outputs": [
    {
     "name": "stdout",
     "output_type": "stream",
     "text": [
      "name shubham\n",
      "age 25\n",
      "addr ['delhi', 'noida']\n"
     ]
    }
   ],
   "source": [
    "#Loop through the Dictionary \n",
    "\n",
    "for i in d.keys():\n",
    "    print(i, d[i])"
   ]
  },
  {
   "cell_type": "code",
   "execution_count": 11,
   "id": "66186a81",
   "metadata": {},
   "outputs": [
    {
     "name": "stdout",
     "output_type": "stream",
     "text": [
      "name shubham\n",
      "age 25\n",
      "addr ['delhi', 'noida']\n"
     ]
    }
   ],
   "source": [
    "for i in d.items():\n",
    "    print(i[0],i[1])"
   ]
  },
  {
   "cell_type": "code",
   "execution_count": 12,
   "id": "a327736b",
   "metadata": {},
   "outputs": [
    {
     "name": "stdout",
     "output_type": "stream",
     "text": [
      "shubham\n",
      "25\n",
      "['delhi', 'noida']\n"
     ]
    }
   ],
   "source": [
    "for i in d.values():\n",
    "    print(i)"
   ]
  },
  {
   "cell_type": "code",
   "execution_count": 13,
   "id": "9a49cdcc",
   "metadata": {},
   "outputs": [
    {
     "name": "stdout",
     "output_type": "stream",
     "text": [
      "addr ['delhi', 'noida']\n",
      "age 25\n",
      "name shubham\n"
     ]
    }
   ],
   "source": [
    "for i in sorted(d.keys()):\n",
    "    print(i,d[i])\n",
    "    "
   ]
  },
  {
   "cell_type": "code",
   "execution_count": 14,
   "id": "11f02737",
   "metadata": {},
   "outputs": [
    {
     "name": "stdout",
     "output_type": "stream",
     "text": [
      "1730075011904\n",
      "1729991175216\n",
      "1730075725488\n",
      "1730075779712\n"
     ]
    }
   ],
   "source": [
    "print(id(d['addr']))\n",
    "print(id(d['age']))\n",
    "print(id(d['name']))\n",
    "print(id(d))\n"
   ]
  },
  {
   "cell_type": "code",
   "execution_count": 15,
   "id": "aabd7d12",
   "metadata": {},
   "outputs": [
    {
     "name": "stdout",
     "output_type": "stream",
     "text": [
      "{'name': 'shubham', 'age': 25, 'addr': ['delhi', 'noida'], 'Name': 'shubham'}\n"
     ]
    }
   ],
   "source": [
    "d['Name']=d['name']\n",
    "print(d)"
   ]
  },
  {
   "cell_type": "code",
   "execution_count": 16,
   "id": "82f630c2",
   "metadata": {},
   "outputs": [
    {
     "name": "stdout",
     "output_type": "stream",
     "text": [
      "{'name': 'shubham', 'age': 25, 'addr': ['delhi', 'noida'], 'Name': 'shubham', 'Age': 25}\n"
     ]
    }
   ],
   "source": [
    "d['Age']=d['age']\n",
    "print(d)"
   ]
  },
  {
   "cell_type": "code",
   "execution_count": 19,
   "id": "ad30d362",
   "metadata": {},
   "outputs": [
    {
     "name": "stdout",
     "output_type": "stream",
     "text": [
      "1729991175216\n",
      "1729991175216\n"
     ]
    }
   ],
   "source": [
    "print(id(d['age']))\n",
    "print(id(d['Age']))"
   ]
  },
  {
   "cell_type": "code",
   "execution_count": 20,
   "id": "d36557b3",
   "metadata": {},
   "outputs": [],
   "source": [
    "d['Age']=25"
   ]
  },
  {
   "cell_type": "code",
   "execution_count": 21,
   "id": "d30f2207",
   "metadata": {},
   "outputs": [
    {
     "name": "stdout",
     "output_type": "stream",
     "text": [
      "{'name': 'Shubham', 'age': 25, 'addr': 'delhi'} {'age': 25} {'addr': 'delhi'}\n"
     ]
    }
   ],
   "source": [
    "d1={'name':'Shubham'}\n",
    "d2={'age':25}\n",
    "d3={'addr':'delhi'}\n",
    "d1.update(d2)\n",
    "d1.update(d3)\n",
    "print(d1,d2,d3)"
   ]
  },
  {
   "cell_type": "code",
   "execution_count": 23,
   "id": "06a5637f",
   "metadata": {},
   "outputs": [
    {
     "name": "stdout",
     "output_type": "stream",
     "text": [
      "M\n",
      "delhi\n",
      "None\n",
      "{'name': 'M', 'addr': 'delhi', 'sub': None}\n"
     ]
    }
   ],
   "source": [
    "#set default() Function \n",
    "d={'name':'M'}\n",
    "print(d.setdefault('name','S'))\n",
    "print(d.setdefault('addr','delhi'))\n",
    "print(d.setdefault('sub'))\n",
    "\n",
    "print(d)"
   ]
  },
  {
   "cell_type": "code",
   "execution_count": 24,
   "id": "f604298c",
   "metadata": {},
   "outputs": [
    {
     "name": "stdout",
     "output_type": "stream",
     "text": [
      "M\n",
      "None\n"
     ]
    }
   ],
   "source": [
    "print(d.setdefault('name', 'S'))\n",
    "print(d.setdefault('sub'))"
   ]
  },
  {
   "cell_type": "code",
   "execution_count": 1,
   "id": "fc769558",
   "metadata": {},
   "outputs": [
    {
     "name": "stdout",
     "output_type": "stream",
     "text": [
      "{'name': 'Shubham', 'age': 23, 'addr': 'Delhi'}\n",
      "{'age': 23, 'addr': 'Delhi'}\n",
      "{'addr': 'Delhi'}\n",
      "{}\n"
     ]
    },
    {
     "ename": "NameError",
     "evalue": "name 'd' is not defined",
     "output_type": "error",
     "traceback": [
      "\u001b[1;31m---------------------------------------------------------------------------\u001b[0m",
      "\u001b[1;31mNameError\u001b[0m                                 Traceback (most recent call last)",
      "\u001b[1;32m~\\AppData\\Local\\Temp\\ipykernel_12296\\2720352217.py\u001b[0m in \u001b[0;36m<module>\u001b[1;34m\u001b[0m\n\u001b[0;32m     13\u001b[0m \u001b[1;33m\u001b[0m\u001b[0m\n\u001b[0;32m     14\u001b[0m \u001b[1;32mdel\u001b[0m \u001b[0md\u001b[0m\u001b[1;33m\u001b[0m\u001b[1;33m\u001b[0m\u001b[0m\n\u001b[1;32m---> 15\u001b[1;33m \u001b[0mprint\u001b[0m\u001b[1;33m(\u001b[0m\u001b[0md\u001b[0m\u001b[1;33m)\u001b[0m\u001b[1;33m\u001b[0m\u001b[1;33m\u001b[0m\u001b[0m\n\u001b[0m",
      "\u001b[1;31mNameError\u001b[0m: name 'd' is not defined"
     ]
    }
   ],
   "source": [
    "#Removing items from dictionary \n",
    "d={'name': 'Shubham', 'age': 23, 'addr':'Delhi'}\n",
    "print(d)\n",
    "\n",
    "d.pop('name')\n",
    "print(d)\n",
    "\n",
    "del d['age']\n",
    "print(d)\n",
    "\n",
    "d.clear()\n",
    "print(d)\n",
    "\n",
    "del d\n",
    "print(d)"
   ]
  },
  {
   "cell_type": "code",
   "execution_count": 3,
   "id": "7ce037f8",
   "metadata": {},
   "outputs": [
    {
     "name": "stdout",
     "output_type": "stream",
     "text": [
      "addr Delhi \n",
      "age 23\n",
      "name  shubham\n",
      "[('addr', 'Delhi '), ('age', '23'), ('name', ' shubham')]\n",
      "[' shubham', '23', 'Delhi ']\n",
      "['addr', 'age', 'name']\n"
     ]
    }
   ],
   "source": [
    "# Sorting in the Dictionary \n",
    "d= {'name':' shubham', 'age': '23', 'addr': 'Delhi '}\n",
    "for i in sorted(d.keys()):\n",
    "    print(i, d[i])\n",
    "    \n",
    "print(sorted(d.items()))\n",
    "\n",
    "print(sorted(d.values()))\n",
    "\n",
    "print(sorted(d))\n",
    "\n",
    "d= {'name':' shubham', 'age': 23, 'addr': 'Delhi '}"
   ]
  },
  {
   "cell_type": "code",
   "execution_count": 5,
   "id": "9289c6b6",
   "metadata": {},
   "outputs": [
    {
     "name": "stdout",
     "output_type": "stream",
     "text": [
      "{' shubham': 'name', '23': 'age', 'Delhi ': 'addr'}\n",
      "{'name': ' shubham', 'age': '23', 'addr': 'Delhi '}\n"
     ]
    }
   ],
   "source": [
    "d= {'name':' shubham', 'age': '23', 'addr': 'Delhi '}\n",
    "keys= d.keys()\n",
    "values=d.values()\n",
    "\n",
    "n= dict(zip(values,keys))\n",
    "o=dict(sorted(n.items()))\n",
    "\n",
    "print(o)\n",
    "\n",
    "r= dict(zip(o.values(), o.keys()))\n",
    "print(r)"
   ]
  },
  {
   "cell_type": "code",
   "execution_count": 6,
   "id": "2a80ee4b",
   "metadata": {},
   "outputs": [
    {
     "name": "stdout",
     "output_type": "stream",
     "text": [
      "{'addr': 'Delhi ', 'age': '23', 'name': ' shubham'}\n",
      "{'name': ' shubham', 'age': '23', 'addr': 'Delhi '}\n"
     ]
    }
   ],
   "source": [
    "d= {'name':' shubham', 'age': '23', 'addr': 'Delhi '}\n",
    "print(dict(sorted(d.items(), key= lambda item: item[0])))\n",
    "print(dict(sorted(d.items(), key=lambda item: item[1])))"
   ]
  },
  {
   "cell_type": "code",
   "execution_count": 7,
   "id": "7e1f9248",
   "metadata": {},
   "outputs": [
    {
     "name": "stdout",
     "output_type": "stream",
     "text": [
      "{'name': 'shubham', 'age': 'shubham', 'addr': 'shubham'}\n"
     ]
    }
   ],
   "source": [
    "d= dict.fromkeys(['name', 'age', 'addr'], \"shubham\")\n",
    "print(d)"
   ]
  },
  {
   "cell_type": "code",
   "execution_count": 8,
   "id": "1bcc90f2",
   "metadata": {},
   "outputs": [
    {
     "name": "stdout",
     "output_type": "stream",
     "text": [
      "{'name': 'Shubham', 'age': [21], 'addr': 'Delhi', 'data': True}\n",
      "{'name': 'Shivam', 'age': [21], 'addr': 'Delhi', 'data': True}\n",
      "{'age': [21], 'addr': 'Delhi', 'data': True}\n",
      "{'age': [21], 'addr': 'Delhi', 'data': True, 'name': 'Shivam'}\n"
     ]
    }
   ],
   "source": [
    "#Simple Dictionary\n",
    "d={}\n",
    "d['name']='Shubham'\n",
    "d['age']=[21]\n",
    "d['addr']=('Delhi')\n",
    "d['data']= True\n",
    "print(d)\n",
    "\n",
    "d['name']= 'Shivam'\n",
    "print(d)\n",
    "\n",
    "del d['name']\n",
    "print(d)\n",
    "\n",
    "d['name']='Shivam'\n",
    "print(d)"
   ]
  },
  {
   "cell_type": "code",
   "execution_count": 10,
   "id": "f43baaad",
   "metadata": {},
   "outputs": [
    {
     "name": "stdout",
     "output_type": "stream",
     "text": [
      "OrderedDict([('name', 'Shubham'), ('age', [21]), ('addr', 'Delhi'), ('data', True)])\n",
      "OrderedDict([('name', ' Shivam'), ('age', [21]), ('addr', 'Delhi'), ('data', True)])\n",
      "name  Shivam\n",
      "age [21]\n",
      "addr Delhi\n",
      "data True\n",
      "OrderedDict([('age', [21]), ('addr', 'Delhi'), ('data', True)])\n",
      "OrderedDict([('age', [21]), ('addr', 'Delhi'), ('data', True), ('name', 'Shivam')])\n"
     ]
    }
   ],
   "source": [
    "# OrderDict\n",
    "from collections import OrderedDict\n",
    "\n",
    "o = OrderedDict()\n",
    "o['name']='Shubham'\n",
    "o['age']=[21]\n",
    "o['addr']= ('Delhi')\n",
    "o['data']= True\n",
    "print(o)\n",
    "\n",
    "o['name'] = ' Shivam'\n",
    "print(o)\n",
    "\n",
    "for k, v in o.items():\n",
    "    print(k,v)\n",
    "    \n",
    "del o['name']\n",
    "print(o)\n",
    "\n",
    "o['name']= 'Shivam'\n",
    "print(o)"
   ]
  },
  {
   "cell_type": "code",
   "execution_count": 11,
   "id": "e0a0aca4",
   "metadata": {},
   "outputs": [
    {
     "name": "stdout",
     "output_type": "stream",
     "text": [
      "{'age': [21], 'addr': 'Delhi', 'data': True, 'name': 'Shivam'}\n",
      "dict_keys(['age', 'addr', 'data', 'name'])\n",
      "dict_values([[21], 'Delhi', True, 'Shivam'])\n"
     ]
    }
   ],
   "source": [
    "#Dictionary Comprehension \n",
    "print(d)\n",
    "print(d.keys())\n",
    "print(d.values())"
   ]
  },
  {
   "cell_type": "code",
   "execution_count": 12,
   "id": "89dd6a22",
   "metadata": {},
   "outputs": [
    {
     "name": "stdout",
     "output_type": "stream",
     "text": [
      "{2: True}\n",
      "{'age': [21], 'addr': 'Delhi', 'name': 'Shivam'}\n",
      "{2: True}\n",
      "{'age': [21]}\n"
     ]
    }
   ],
   "source": [
    "keys = ['age', 'addr', 2, 'name']\n",
    "values = [[21],'Delhi', True, \"Shivam\"]\n",
    "\n",
    "di= {k:v for (k, v) in zip(keys, values) if type(k)==int}\n",
    "ds= {k:v for (k, v) in zip(keys, values) if type(k)!=int}\n",
    "db= {k:v for (k, v) in zip(keys, values) if type(v)==bool}\n",
    "dl= {k:v for (k, v) in zip(keys, values) if type(v)==list}\n",
    "print(di)\n",
    "print(ds)\n",
    "print(db)\n",
    "print(dl)"
   ]
  },
  {
   "cell_type": "code",
   "execution_count": 13,
   "id": "b1087d60",
   "metadata": {},
   "outputs": [
    {
     "name": "stdout",
     "output_type": "stream",
     "text": [
      "{1: 1, 2: 4, 3: 9, 4: 16, 5: 25}\n"
     ]
    }
   ],
   "source": [
    "l = [1, 2,3,4,5]\n",
    "dl = {i:i**2 for i in l}\n",
    "print(dl)\n"
   ]
  },
  {
   "cell_type": "code",
   "execution_count": 15,
   "id": "1e55fae0",
   "metadata": {},
   "outputs": [
    {
     "name": "stdout",
     "output_type": "stream",
     "text": [
      "{'S': 'SSS', 'H': 'HHH', 'U': 'UUU', 'B': 'BBB', 'A': 'AAA', 'M': 'MMM'}\n"
     ]
    }
   ],
   "source": [
    "str = 'SHUBHAM'\n",
    "ds= {s:s*3 for s in str}\n",
    "print(ds)"
   ]
  },
  {
   "cell_type": "code",
   "execution_count": 16,
   "id": "92e9c494",
   "metadata": {},
   "outputs": [
    {
     "name": "stdout",
     "output_type": "stream",
     "text": [
      "{0: 0, 2: 4, 4: 16, 6: 36, 8: 64}\n"
     ]
    }
   ],
   "source": [
    "d ={i:i**2 for i in range(10) if i%2==0}\n",
    "print(d)"
   ]
  },
  {
   "cell_type": "code",
   "execution_count": 17,
   "id": "4f03b7aa",
   "metadata": {},
   "outputs": [
    {
     "name": "stdout",
     "output_type": "stream",
     "text": [
      "Dcit with values as lists...\n",
      "11 [11, 22, 33, 44, 55, 66, 77, 88, 99, 110]\n",
      "12 [12, 24, 36, 48, 60, 72, 84, 96, 108, 120]\n",
      "13 [13, 26, 39, 52, 65, 78, 91, 104, 117, 130]\n",
      "14 [14, 28, 42, 56, 70, 84, 98, 112, 126, 140]\n",
      "15 [15, 30, 45, 60, 75, 90, 105, 120, 135, 150]\n",
      "16 [16, 32, 48, 64, 80, 96, 112, 128, 144, 160]\n",
      "17 [17, 34, 51, 68, 85, 102, 119, 136, 153, 170]\n",
      "18 [18, 36, 54, 72, 90, 108, 126, 144, 162, 180]\n",
      "19 [19, 38, 57, 76, 95, 114, 133, 152, 171, 190]\n",
      "20 [20, 40, 60, 80, 100, 120, 140, 160, 180, 200]\n"
     ]
    }
   ],
   "source": [
    "#Nested Dictionary\n",
    "\n",
    "print('Dcit with values as lists...')\n",
    "dl = {i:[i*d for d in range(1,11)] for i in range(11,21)}\n",
    "\n",
    "for (k,v) in dl.items():\n",
    "    print(k, v)"
   ]
  },
  {
   "cell_type": "code",
   "execution_count": 18,
   "id": "0998d693",
   "metadata": {},
   "outputs": [
    {
     "name": "stdout",
     "output_type": "stream",
     "text": [
      "Dict with values as dicts..\n",
      "11 {1: 11, 2: 22, 3: 33, 4: 44, 5: 55, 6: 66, 7: 77, 8: 88, 9: 99, 10: 110}\n",
      "12 {1: 12, 2: 24, 3: 36, 4: 48, 5: 60, 6: 72, 7: 84, 8: 96, 9: 108, 10: 120}\n",
      "13 {1: 13, 2: 26, 3: 39, 4: 52, 5: 65, 6: 78, 7: 91, 8: 104, 9: 117, 10: 130}\n",
      "14 {1: 14, 2: 28, 3: 42, 4: 56, 5: 70, 6: 84, 7: 98, 8: 112, 9: 126, 10: 140}\n",
      "15 {1: 15, 2: 30, 3: 45, 4: 60, 5: 75, 6: 90, 7: 105, 8: 120, 9: 135, 10: 150}\n",
      "16 {1: 16, 2: 32, 3: 48, 4: 64, 5: 80, 6: 96, 7: 112, 8: 128, 9: 144, 10: 160}\n",
      "17 {1: 17, 2: 34, 3: 51, 4: 68, 5: 85, 6: 102, 7: 119, 8: 136, 9: 153, 10: 170}\n",
      "18 {1: 18, 2: 36, 3: 54, 4: 72, 5: 90, 6: 108, 7: 126, 8: 144, 9: 162, 10: 180}\n",
      "19 {1: 19, 2: 38, 3: 57, 4: 76, 5: 95, 6: 114, 7: 133, 8: 152, 9: 171, 10: 190}\n",
      "20 {1: 20, 2: 40, 3: 60, 4: 80, 5: 100, 6: 120, 7: 140, 8: 160, 9: 180, 10: 200}\n"
     ]
    }
   ],
   "source": [
    "print('Dict with values as dicts..')\n",
    "dd= {i:{d:i*d for d in range(1,11)} for i in range(11,21)}\n",
    "for (k,v) in dd.items():\n",
    "    print(k, v)\n",
    "    "
   ]
  },
  {
   "cell_type": "code",
   "execution_count": 19,
   "id": "ed6bef01",
   "metadata": {},
   "outputs": [
    {
     "name": "stdout",
     "output_type": "stream",
     "text": [
      "A {1: 'A', 2: 'AA', 3: 'AAA', 4: 'AAAA'}\n",
      "B {1: 'B', 2: 'BB', 3: 'BBB', 4: 'BBBB'}\n",
      "C {1: 'C', 2: 'CC', 3: 'CCC', 4: 'CCCC'}\n",
      "D {1: 'D', 2: 'DD', 3: 'DDD', 4: 'DDDD'}\n"
     ]
    }
   ],
   "source": [
    "#Dict with values as strings\n",
    "\n",
    "ds = {i:{d:d*i for d in range(1,5)} for i in 'ABCD'}\n",
    "for (k, v) in ds.items():\n",
    "    print(k, v)\n",
    "    "
   ]
  },
  {
   "cell_type": "code",
   "execution_count": 21,
   "id": "8ab76855",
   "metadata": {},
   "outputs": [
    {
     "name": "stdout",
     "output_type": "stream",
     "text": [
      "4\n",
      "True\n",
      "False\n",
      "False\n",
      "True\n",
      "[0, 1, 2, 3]\n",
      "[3, 2, 1, 0]\n"
     ]
    }
   ],
   "source": [
    "#Dict Function - len, any, all, sorted\n",
    "\n",
    "d= {2:'Sh', 0:'Su', 1:'Pa', 3:'Am'}\n",
    "e= {}\n",
    "print(len(d))\n",
    "print(any(d))\n",
    "print(any(e))\n",
    "print(all(d))\n",
    "print(all(e))\n",
    "print(sorted(d))\n",
    "print(sorted(d, reverse=True))"
   ]
  },
  {
   "cell_type": "code",
   "execution_count": null,
   "id": "9ddae061",
   "metadata": {},
   "outputs": [],
   "source": []
  }
 ],
 "metadata": {
  "kernelspec": {
   "display_name": "Python 3 (ipykernel)",
   "language": "python",
   "name": "python3"
  },
  "language_info": {
   "codemirror_mode": {
    "name": "ipython",
    "version": 3
   },
   "file_extension": ".py",
   "mimetype": "text/x-python",
   "name": "python",
   "nbconvert_exporter": "python",
   "pygments_lexer": "ipython3",
   "version": "3.9.13"
  }
 },
 "nbformat": 4,
 "nbformat_minor": 5
}
